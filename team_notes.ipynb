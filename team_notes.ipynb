{
 "cells": [
  {
   "cell_type": "markdown",
   "id": "41a0c1d5",
   "metadata": {},
   "source": [
    "# Gurkamal"
   ]
  },
  {
   "cell_type": "markdown",
   "id": "3c6f21c9",
   "metadata": {},
   "source": [
    "### Accessing the default list of selfie characters used in the algorithm\n",
    "\n",
    "Our list of functional groups should be a list like this."
   ]
  },
  {
   "cell_type": "code",
   "execution_count": 1,
   "id": "c515b4f0",
   "metadata": {
    "collapsed": true
   },
   "outputs": [
    {
     "data": {
      "text/plain": [
       "['[=C+1expl]',\n",
       " '[Expl=Ring2]',\n",
       " '[P-1expl]',\n",
       " '[Cl]',\n",
       " '[O]',\n",
       " '[#S]',\n",
       " '[=N]',\n",
       " '[#P]',\n",
       " '[#P+1expl]',\n",
       " '[Branch3_1]',\n",
       " '[Expl=Ring3]',\n",
       " '[=O+1expl]',\n",
       " '[Branch1_1]',\n",
       " '[=C]',\n",
       " '[C+1expl]',\n",
       " '[Br]',\n",
       " '[#S+1expl]',\n",
       " '[I]',\n",
       " '[#C]',\n",
       " '[Branch1_2]',\n",
       " '[F]',\n",
       " '[Branch2_2]',\n",
       " '[=O]',\n",
       " '[Branch3_3]',\n",
       " '[#C+1expl]',\n",
       " '[N+1expl]',\n",
       " '[N-1expl]',\n",
       " '[S-1expl]',\n",
       " '[N]',\n",
       " '[Branch2_1]',\n",
       " '[#C-1expl]',\n",
       " '[Branch3_2]',\n",
       " '[=P+1expl]',\n",
       " '[O+1expl]',\n",
       " '[=S]',\n",
       " '[P]',\n",
       " '[Branch2_3]',\n",
       " '[C-1expl]',\n",
       " '[=P]',\n",
       " '[#N]',\n",
       " '[=P-1expl]',\n",
       " '[#N+1expl]',\n",
       " '[=S-1expl]',\n",
       " '[Ring3]',\n",
       " '[Branch1_3]',\n",
       " '[#S-1expl]',\n",
       " '[Ring2]',\n",
       " '[=S+1expl]',\n",
       " '[=C-1expl]',\n",
       " '[C]',\n",
       " '[=N+1expl]',\n",
       " '[O-1expl]',\n",
       " '[S+1expl]',\n",
       " '[#P-1expl]',\n",
       " '[Ring1]',\n",
       " '[Hexpl]',\n",
       " '[=N-1expl]',\n",
       " '[S]',\n",
       " '[Expl=Ring1]',\n",
       " '[#O+1expl]',\n",
       " '[P+1expl]']"
      ]
     },
     "execution_count": 1,
     "metadata": {},
     "output_type": "execute_result"
    }
   ],
   "source": [
    "import selfies\n",
    "alphabet = list(selfies.get_semantic_robust_alphabet()) # 34 SELFIE characters\n",
    "alphabet"
   ]
  },
  {
   "cell_type": "markdown",
   "id": "c4b0419c",
   "metadata": {},
   "source": [
    "### Translation between SELFIES and SMILES representations"
   ]
  },
  {
   "cell_type": "code",
   "execution_count": 2,
   "id": "d38fbcdc",
   "metadata": {},
   "outputs": [
    {
     "data": {
      "text/plain": [
       "['[C]', '[=C]', '[C]', '[=C]', '[C]', '[=C]', '[Ring1]', '[Branch1_2]']"
      ]
     },
     "execution_count": 2,
     "metadata": {},
     "output_type": "execute_result"
    }
   ],
   "source": [
    "import selfies as sf\n",
    "\n",
    "benzene = \"c1ccccc1\"\n",
    "\n",
    "# SMILES -> SELFIES -> SMILES translation\n",
    "try:\n",
    "    benzene_sf = sf.encoder(benzene)  # [C][=C][C][=C][C][=C][Ring1][=Branch1]\n",
    "    benzene_smi = sf.decoder(benzene_sf)  # C1=CC=CC=C1\n",
    "except sf.EncoderError:\n",
    "    pass  # sf.encoder error!\n",
    "except sf.DecoderError:\n",
    "    pass  # sf.decoder error!\n",
    "\n",
    "len_benzene = sf.len_selfies(benzene_sf)  # 8\n",
    "\n",
    "symbols_benzene = list(sf.split_selfies(benzene_sf))\n",
    "symbols_benzene"
   ]
  },
  {
   "cell_type": "markdown",
   "id": "f201504f",
   "metadata": {},
   "source": [
    "# Helia"
   ]
  },
  {
   "cell_type": "markdown",
   "id": "ce0fdd92",
   "metadata": {},
   "source": [
    "# Gaukhar"
   ]
  }
 ],
 "metadata": {
  "kernelspec": {
   "display_name": "Python 3 (ipykernel)",
   "language": "python",
   "name": "python3"
  },
  "language_info": {
   "codemirror_mode": {
    "name": "ipython",
    "version": 3
   },
   "file_extension": ".py",
   "mimetype": "text/x-python",
   "name": "python",
   "nbconvert_exporter": "python",
   "pygments_lexer": "ipython3",
   "version": "3.10.9"
  }
 },
 "nbformat": 4,
 "nbformat_minor": 5
}
